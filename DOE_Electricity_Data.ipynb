{
 "cells": [
  {
   "cell_type": "code",
   "execution_count": 1,
   "id": "cbfb2b37",
   "metadata": {},
   "outputs": [
    {
     "name": "stdout",
     "output_type": "stream",
     "text": [
      "Requirement already satisfied: xlrd in c:\\users\\vikram aiyer\\anaconda3\\lib\\site-packages (2.0.1)\n",
      "Note: you may need to restart the kernel to use updated packages.\n"
     ]
    }
   ],
   "source": [
    "pip install xlrd"
   ]
  },
  {
   "cell_type": "code",
   "execution_count": 2,
   "id": "79af2736",
   "metadata": {},
   "outputs": [],
   "source": [
    "import pandas as pd\n",
    "\n",
    "import numpy as np\n",
    "\n"
   ]
  },
  {
   "cell_type": "code",
   "execution_count": 5,
   "id": "8e6fd8e2",
   "metadata": {},
   "outputs": [
    {
     "data": {
      "text/html": [
       "<div>\n",
       "<style scoped>\n",
       "    .dataframe tbody tr th:only-of-type {\n",
       "        vertical-align: middle;\n",
       "    }\n",
       "\n",
       "    .dataframe tbody tr th {\n",
       "        vertical-align: top;\n",
       "    }\n",
       "\n",
       "    .dataframe thead th {\n",
       "        text-align: right;\n",
       "    }\n",
       "</style>\n",
       "<table border=\"1\" class=\"dataframe\">\n",
       "  <thead>\n",
       "    <tr style=\"text-align: right;\">\n",
       "      <th></th>\n",
       "      <th>Date</th>\n",
       "      <th>NERC Region</th>\n",
       "      <th>Time</th>\n",
       "      <th>Area Affected</th>\n",
       "      <th>State/City</th>\n",
       "      <th>Type of Disturbance</th>\n",
       "      <th>Loss (megawatts)</th>\n",
       "      <th>Number of Customers Affected</th>\n",
       "      <th>Restoration Date/ Time</th>\n",
       "    </tr>\n",
       "  </thead>\n",
       "  <tbody>\n",
       "    <tr>\n",
       "      <th>0</th>\n",
       "      <td>2002-01-30 00:00:00</td>\n",
       "      <td>SPP</td>\n",
       "      <td>06:00:00</td>\n",
       "      <td>Oklahoma</td>\n",
       "      <td>Oklahoma</td>\n",
       "      <td>Ice Storm</td>\n",
       "      <td>500</td>\n",
       "      <td>1881134</td>\n",
       "      <td>2002-02-07 12:00:00</td>\n",
       "    </tr>\n",
       "    <tr>\n",
       "      <th>1</th>\n",
       "      <td>2002-01-29 00:00:00</td>\n",
       "      <td>SPP</td>\n",
       "      <td>18:00:00</td>\n",
       "      <td>Metropolitan Kansas City Area</td>\n",
       "      <td>Missouri</td>\n",
       "      <td>Ice Storm</td>\n",
       "      <td>550</td>\n",
       "      <td>270000</td>\n",
       "      <td>NaN</td>\n",
       "    </tr>\n",
       "    <tr>\n",
       "      <th>2</th>\n",
       "      <td>2002-01-30 00:00:00</td>\n",
       "      <td>SPP</td>\n",
       "      <td>16:00:00</td>\n",
       "      <td>Missouri</td>\n",
       "      <td>Missouri</td>\n",
       "      <td>Ice Storm</td>\n",
       "      <td>210</td>\n",
       "      <td>95000</td>\n",
       "      <td>2002-02-10 21:00:00</td>\n",
       "    </tr>\n",
       "    <tr>\n",
       "      <th>3</th>\n",
       "      <td>2002-02-27 00:00:00</td>\n",
       "      <td>WSCC</td>\n",
       "      <td>10:48:00</td>\n",
       "      <td>California</td>\n",
       "      <td>California</td>\n",
       "      <td>Interruption of Firm Load</td>\n",
       "      <td>300</td>\n",
       "      <td>255000</td>\n",
       "      <td>2002-02-27 11:35:00</td>\n",
       "    </tr>\n",
       "    <tr>\n",
       "      <th>4</th>\n",
       "      <td>2002-03-09 00:00:00</td>\n",
       "      <td>ECAR</td>\n",
       "      <td>00:00:00</td>\n",
       "      <td>Lower Peninsula of Michigan</td>\n",
       "      <td>Michigan</td>\n",
       "      <td>Severe Weather</td>\n",
       "      <td>190</td>\n",
       "      <td>190000</td>\n",
       "      <td>2002-03-11 12:00:00</td>\n",
       "    </tr>\n",
       "    <tr>\n",
       "      <th>...</th>\n",
       "      <td>...</td>\n",
       "      <td>...</td>\n",
       "      <td>...</td>\n",
       "      <td>...</td>\n",
       "      <td>...</td>\n",
       "      <td>...</td>\n",
       "      <td>...</td>\n",
       "      <td>...</td>\n",
       "      <td>...</td>\n",
       "    </tr>\n",
       "    <tr>\n",
       "      <th>3941</th>\n",
       "      <td>2023-06-29 00:00:00</td>\n",
       "      <td>RF</td>\n",
       "      <td>15:42:00</td>\n",
       "      <td>Indiana</td>\n",
       "      <td>Indiana</td>\n",
       "      <td>- Weather or natural disaster</td>\n",
       "      <td>NaN</td>\n",
       "      <td>140000</td>\n",
       "      <td>Unknown Unknown</td>\n",
       "    </tr>\n",
       "    <tr>\n",
       "      <th>3942</th>\n",
       "      <td>2023-06-28 00:00:00</td>\n",
       "      <td>SERC</td>\n",
       "      <td>11:01:00</td>\n",
       "      <td>Georgia</td>\n",
       "      <td>Georgia</td>\n",
       "      <td>- Vandalism - Theft</td>\n",
       "      <td>0</td>\n",
       "      <td>0</td>\n",
       "      <td>06/28/2023 11:03 AM</td>\n",
       "    </tr>\n",
       "    <tr>\n",
       "      <th>3943</th>\n",
       "      <td>2023-06-22 00:00:00</td>\n",
       "      <td>SERC</td>\n",
       "      <td>02:30:00</td>\n",
       "      <td>Louisiana</td>\n",
       "      <td>Louisiana</td>\n",
       "      <td>- Transmission equipment failure</td>\n",
       "      <td>17</td>\n",
       "      <td>6242</td>\n",
       "      <td>06/22/2023 2:38 AM</td>\n",
       "    </tr>\n",
       "    <tr>\n",
       "      <th>3944</th>\n",
       "      <td>2023-06-20 00:00:00</td>\n",
       "      <td>SERC</td>\n",
       "      <td>17:48:00</td>\n",
       "      <td>Louisiana</td>\n",
       "      <td>Louisiana</td>\n",
       "      <td>- Transmission equipment failure</td>\n",
       "      <td>0</td>\n",
       "      <td>0</td>\n",
       "      <td>06/20/2023 8:52 PM</td>\n",
       "    </tr>\n",
       "    <tr>\n",
       "      <th>3945</th>\n",
       "      <td>2023-06-30 00:00:00</td>\n",
       "      <td>NPCC</td>\n",
       "      <td>12:13:00</td>\n",
       "      <td>Connecticut</td>\n",
       "      <td>Connecticut</td>\n",
       "      <td>- Unknown</td>\n",
       "      <td>0</td>\n",
       "      <td>0</td>\n",
       "      <td>Unknown Unknown</td>\n",
       "    </tr>\n",
       "  </tbody>\n",
       "</table>\n",
       "<p>3946 rows × 9 columns</p>\n",
       "</div>"
      ],
      "text/plain": [
       "                     Date NERC Region      Time  \\\n",
       "0     2002-01-30 00:00:00         SPP  06:00:00   \n",
       "1     2002-01-29 00:00:00         SPP  18:00:00   \n",
       "2     2002-01-30 00:00:00         SPP  16:00:00   \n",
       "3     2002-02-27 00:00:00        WSCC  10:48:00   \n",
       "4     2002-03-09 00:00:00        ECAR  00:00:00   \n",
       "...                   ...         ...       ...   \n",
       "3941  2023-06-29 00:00:00          RF  15:42:00   \n",
       "3942  2023-06-28 00:00:00        SERC  11:01:00   \n",
       "3943  2023-06-22 00:00:00        SERC  02:30:00   \n",
       "3944  2023-06-20 00:00:00        SERC  17:48:00   \n",
       "3945  2023-06-30 00:00:00        NPCC  12:13:00   \n",
       "\n",
       "                      Area Affected   State/City  \\\n",
       "0                          Oklahoma     Oklahoma   \n",
       "1     Metropolitan Kansas City Area     Missouri   \n",
       "2                          Missouri     Missouri   \n",
       "3                        California   California   \n",
       "4       Lower Peninsula of Michigan     Michigan   \n",
       "...                             ...          ...   \n",
       "3941                        Indiana      Indiana   \n",
       "3942                        Georgia      Georgia   \n",
       "3943                      Louisiana    Louisiana   \n",
       "3944                      Louisiana    Louisiana   \n",
       "3945                    Connecticut  Connecticut   \n",
       "\n",
       "                   Type of Disturbance Loss (megawatts)  \\\n",
       "0                            Ice Storm              500   \n",
       "1                            Ice Storm              550   \n",
       "2                            Ice Storm              210   \n",
       "3            Interruption of Firm Load              300   \n",
       "4                       Severe Weather              190   \n",
       "...                                ...              ...   \n",
       "3941     - Weather or natural disaster              NaN   \n",
       "3942               - Vandalism - Theft                0   \n",
       "3943  - Transmission equipment failure               17   \n",
       "3944  - Transmission equipment failure                0   \n",
       "3945                         - Unknown                0   \n",
       "\n",
       "     Number of Customers Affected Restoration Date/ Time  \n",
       "0                         1881134    2002-02-07 12:00:00  \n",
       "1                          270000                    NaN  \n",
       "2                           95000    2002-02-10 21:00:00  \n",
       "3                          255000    2002-02-27 11:35:00  \n",
       "4                          190000    2002-03-11 12:00:00  \n",
       "...                           ...                    ...  \n",
       "3941                       140000        Unknown Unknown  \n",
       "3942                            0    06/28/2023 11:03 AM  \n",
       "3943                         6242     06/22/2023 2:38 AM  \n",
       "3944                            0     06/20/2023 8:52 PM  \n",
       "3945                            0        Unknown Unknown  \n",
       "\n",
       "[3946 rows x 9 columns]"
      ]
     },
     "execution_count": 5,
     "metadata": {},
     "output_type": "execute_result"
    }
   ],
   "source": [
    "df = pd.read_excel('DOE_Main_sheet.xlsx')\n",
    "\n",
    "df\n"
   ]
  },
  {
   "cell_type": "code",
   "execution_count": 6,
   "id": "9882bbc7",
   "metadata": {},
   "outputs": [],
   "source": [
    "# Convert 'Date' column to datetime format\n",
    "df['Date'] = pd.to_datetime(df['Date'], errors='coerce')"
   ]
  },
  {
   "cell_type": "code",
   "execution_count": 10,
   "id": "39ca29b0",
   "metadata": {},
   "outputs": [],
   "source": [
    "# Check if the conversion was successful\n",
    "df['IsDate'] = df['Date'].notnull()"
   ]
  },
  {
   "cell_type": "code",
   "execution_count": 11,
   "id": "4bf8023a",
   "metadata": {},
   "outputs": [],
   "source": [
    "# Filter the DataFrame based on the 'IsDate' column\n",
    "filtered_df = df[df['IsDate']]"
   ]
  },
  {
   "cell_type": "code",
   "execution_count": 12,
   "id": "63f2987b",
   "metadata": {},
   "outputs": [
    {
     "name": "stdout",
     "output_type": "stream",
     "text": [
      "        Date NERC Region      Time                  Area Affected  State/City  \\\n",
      "0 2002-01-30         SPP  06:00:00                       Oklahoma    Oklahoma   \n",
      "1 2002-01-29         SPP  18:00:00  Metropolitan Kansas City Area    Missouri   \n",
      "2 2002-01-30         SPP  16:00:00                       Missouri    Missouri   \n",
      "3 2002-02-27        WSCC  10:48:00                     California  California   \n",
      "4 2002-03-09        ECAR  00:00:00    Lower Peninsula of Michigan    Michigan   \n",
      "\n",
      "         Type of Disturbance Loss (megawatts) Number of Customers Affected  \\\n",
      "0                  Ice Storm              500                      1881134   \n",
      "1                  Ice Storm              550                       270000   \n",
      "2                  Ice Storm              210                        95000   \n",
      "3  Interruption of Firm Load              300                       255000   \n",
      "4             Severe Weather              190                       190000   \n",
      "\n",
      "  Restoration Date/ Time  IsDate  \n",
      "0    2002-02-07 12:00:00    True  \n",
      "1                    NaN    True  \n",
      "2    2002-02-10 21:00:00    True  \n",
      "3    2002-02-27 11:35:00    True  \n",
      "4    2002-03-11 12:00:00    True  \n"
     ]
    }
   ],
   "source": [
    "print(filtered_df.head())"
   ]
  },
  {
   "cell_type": "code",
   "execution_count": 18,
   "id": "b77be662",
   "metadata": {},
   "outputs": [
    {
     "name": "stdout",
     "output_type": "stream",
     "text": [
      "           Date NERC Region      Time                  Area Affected  \\\n",
      "0    2002-01-30         SPP  06:00:00                       Oklahoma   \n",
      "1    2002-01-29         SPP  18:00:00  Metropolitan Kansas City Area   \n",
      "2    2002-01-30         SPP  16:00:00                       Missouri   \n",
      "3    2002-02-27        WSCC  10:48:00                     California   \n",
      "4    2002-03-09        ECAR  00:00:00    Lower Peninsula of Michigan   \n",
      "...         ...         ...       ...                            ...   \n",
      "3941 2023-06-29          RF  15:42:00                        Indiana   \n",
      "3942 2023-06-28        SERC  11:01:00                        Georgia   \n",
      "3943 2023-06-22        SERC  02:30:00                      Louisiana   \n",
      "3944 2023-06-20        SERC  17:48:00                      Louisiana   \n",
      "3945 2023-06-30        NPCC  12:13:00                    Connecticut   \n",
      "\n",
      "       State/City               Type of Disturbance Loss (megawatts)  \\\n",
      "0        Oklahoma                         Ice Storm              500   \n",
      "1        Missouri                         Ice Storm              550   \n",
      "2        Missouri                         Ice Storm              210   \n",
      "3      California         Interruption of Firm Load              300   \n",
      "4        Michigan                    Severe Weather              190   \n",
      "...           ...                               ...              ...   \n",
      "3941      Indiana     - Weather or natural disaster              NaN   \n",
      "3942      Georgia               - Vandalism - Theft                0   \n",
      "3943    Louisiana  - Transmission equipment failure               17   \n",
      "3944    Louisiana  - Transmission equipment failure                0   \n",
      "3945  Connecticut                         - Unknown                0   \n",
      "\n",
      "     Number of Customers Affected Restoration Date/ Time  IsDate  \n",
      "0                         1881134    2002-02-07 12:00:00    True  \n",
      "1                          270000                    NaN    True  \n",
      "2                           95000    2002-02-10 21:00:00    True  \n",
      "3                          255000    2002-02-27 11:35:00    True  \n",
      "4                          190000    2002-03-11 12:00:00    True  \n",
      "...                           ...                    ...     ...  \n",
      "3941                       140000        Unknown Unknown    True  \n",
      "3942                            0    06/28/2023 11:03 AM    True  \n",
      "3943                         6242     06/22/2023 2:38 AM    True  \n",
      "3944                            0     06/20/2023 8:52 PM    True  \n",
      "3945                            0        Unknown Unknown    True  \n",
      "\n",
      "[3946 rows x 10 columns]\n"
     ]
    }
   ],
   "source": [
    "print(df)"
   ]
  },
  {
   "cell_type": "code",
   "execution_count": 19,
   "id": "8a845e73",
   "metadata": {},
   "outputs": [],
   "source": [
    "df['Time'] = pd.to_datetime(df['Time'], errors='coerce').dt.strftime('%I:%M %p')\n"
   ]
  },
  {
   "cell_type": "code",
   "execution_count": 20,
   "id": "36170c12",
   "metadata": {},
   "outputs": [
    {
     "name": "stdout",
     "output_type": "stream",
     "text": [
      "Formatting 'Time' column...\n",
      "Formatting completed.\n"
     ]
    }
   ],
   "source": [
    "print(\"Formatting 'Time' column...\")\n",
    "df['Time'] = pd.to_datetime(df['Time'], errors='coerce').dt.strftime('%I:%M %p')\n",
    "print(\"Formatting completed.\")"
   ]
  },
  {
   "cell_type": "code",
   "execution_count": 21,
   "id": "dba1b1b2",
   "metadata": {},
   "outputs": [
    {
     "name": "stdout",
     "output_type": "stream",
     "text": [
      "        Date NERC Region Time                  Area Affected  State/City  \\\n",
      "0 2002-01-30         SPP  NaN                       Oklahoma    Oklahoma   \n",
      "1 2002-01-29         SPP  NaN  Metropolitan Kansas City Area    Missouri   \n",
      "2 2002-01-30         SPP  NaN                       Missouri    Missouri   \n",
      "3 2002-02-27        WSCC  NaN                     California  California   \n",
      "4 2002-03-09        ECAR  NaN    Lower Peninsula of Michigan    Michigan   \n",
      "\n",
      "         Type of Disturbance Loss (megawatts) Number of Customers Affected  \\\n",
      "0                  Ice Storm              500                      1881134   \n",
      "1                  Ice Storm              550                       270000   \n",
      "2                  Ice Storm              210                        95000   \n",
      "3  Interruption of Firm Load              300                       255000   \n",
      "4             Severe Weather              190                       190000   \n",
      "\n",
      "  Restoration Date/ Time  IsDate  \n",
      "0    2002-02-07 12:00:00    True  \n",
      "1                    NaN    True  \n",
      "2    2002-02-10 21:00:00    True  \n",
      "3    2002-02-27 11:35:00    True  \n",
      "4    2002-03-11 12:00:00    True  \n"
     ]
    }
   ],
   "source": [
    "print(df.head())"
   ]
  },
  {
   "cell_type": "code",
   "execution_count": 22,
   "id": "6325d5ab",
   "metadata": {},
   "outputs": [],
   "source": [
    "df['Time'].fillna('00:00:00', inplace=True)"
   ]
  },
  {
   "cell_type": "code",
   "execution_count": 23,
   "id": "db1947c8",
   "metadata": {},
   "outputs": [
    {
     "name": "stdout",
     "output_type": "stream",
     "text": [
      "        Date NERC Region      Time                  Area Affected  State/City  \\\n",
      "0 2002-01-30         SPP  00:00:00                       Oklahoma    Oklahoma   \n",
      "1 2002-01-29         SPP  00:00:00  Metropolitan Kansas City Area    Missouri   \n",
      "2 2002-01-30         SPP  00:00:00                       Missouri    Missouri   \n",
      "3 2002-02-27        WSCC  00:00:00                     California  California   \n",
      "4 2002-03-09        ECAR  00:00:00    Lower Peninsula of Michigan    Michigan   \n",
      "\n",
      "         Type of Disturbance Loss (megawatts) Number of Customers Affected  \\\n",
      "0                  Ice Storm              500                      1881134   \n",
      "1                  Ice Storm              550                       270000   \n",
      "2                  Ice Storm              210                        95000   \n",
      "3  Interruption of Firm Load              300                       255000   \n",
      "4             Severe Weather              190                       190000   \n",
      "\n",
      "  Restoration Date/ Time  IsDate  \n",
      "0    2002-02-07 12:00:00    True  \n",
      "1                    NaN    True  \n",
      "2    2002-02-10 21:00:00    True  \n",
      "3    2002-02-27 11:35:00    True  \n",
      "4    2002-03-11 12:00:00    True  \n"
     ]
    }
   ],
   "source": [
    "print(df.head())"
   ]
  },
  {
   "cell_type": "code",
   "execution_count": 24,
   "id": "b75470c8",
   "metadata": {},
   "outputs": [],
   "source": [
    "df['Loss (megawatts)'] = pd.to_numeric(df['Loss (megawatts)'], errors='coerce')\n"
   ]
  },
  {
   "cell_type": "code",
   "execution_count": 25,
   "id": "ab5c30be",
   "metadata": {},
   "outputs": [
    {
     "name": "stdout",
     "output_type": "stream",
     "text": [
      "        Date NERC Region      Time                  Area Affected  State/City  \\\n",
      "0 2002-01-30         SPP  00:00:00                       Oklahoma    Oklahoma   \n",
      "1 2002-01-29         SPP  00:00:00  Metropolitan Kansas City Area    Missouri   \n",
      "2 2002-01-30         SPP  00:00:00                       Missouri    Missouri   \n",
      "3 2002-02-27        WSCC  00:00:00                     California  California   \n",
      "4 2002-03-09        ECAR  00:00:00    Lower Peninsula of Michigan    Michigan   \n",
      "\n",
      "         Type of Disturbance  Loss (megawatts) Number of Customers Affected  \\\n",
      "0                  Ice Storm             500.0                      1881134   \n",
      "1                  Ice Storm             550.0                       270000   \n",
      "2                  Ice Storm             210.0                        95000   \n",
      "3  Interruption of Firm Load             300.0                       255000   \n",
      "4             Severe Weather             190.0                       190000   \n",
      "\n",
      "  Restoration Date/ Time  IsDate  \n",
      "0    2002-02-07 12:00:00    True  \n",
      "1                    NaN    True  \n",
      "2    2002-02-10 21:00:00    True  \n",
      "3    2002-02-27 11:35:00    True  \n",
      "4    2002-03-11 12:00:00    True  \n"
     ]
    }
   ],
   "source": [
    "print(df.head())"
   ]
  },
  {
   "cell_type": "code",
   "execution_count": 26,
   "id": "35825fa7",
   "metadata": {},
   "outputs": [],
   "source": [
    "# Assuming df is your DataFrame\n",
    "df.to_excel(\"DOE_New.xlsx\", index=False)\n"
   ]
  },
  {
   "cell_type": "code",
   "execution_count": null,
   "id": "b14e136e",
   "metadata": {},
   "outputs": [],
   "source": []
  }
 ],
 "metadata": {
  "kernelspec": {
   "display_name": "Python 3 (ipykernel)",
   "language": "python",
   "name": "python3"
  },
  "language_info": {
   "codemirror_mode": {
    "name": "ipython",
    "version": 3
   },
   "file_extension": ".py",
   "mimetype": "text/x-python",
   "name": "python",
   "nbconvert_exporter": "python",
   "pygments_lexer": "ipython3",
   "version": "3.11.3"
  }
 },
 "nbformat": 4,
 "nbformat_minor": 5
}
